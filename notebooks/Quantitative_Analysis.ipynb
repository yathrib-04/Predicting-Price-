{
 "cells": [
  {
   "cell_type": "markdown",
   "id": "ebede2eb",
   "metadata": {},
   "source": [
    "# Quantitative Analysis using pandas_ta\n",
    "\n",
    "This notebook demonstrates how to load stock price data, calculate technical indicators using pandas_ta (a pure Python alternative to TA-Lib), and visualize the results.\n",
    "\n",
    "**Steps:**\n",
    "1. Install required libraries\n",
    "2. Import libraries\n",
    "3. Load stock data\n",
    "4. Calculate technical indicators (SMA, EMA, RSI, MACD)\n",
    "5. Visualize the data"
   ]
  },
  {
   "cell_type": "code",
   "execution_count": 1,
   "id": "62c31e17",
   "metadata": {},
   "outputs": [
    {
     "name": "stderr",
     "output_type": "stream",
     "text": [
      "WARNING: Ignoring invalid distribution ~andas (C:\\Users\\hp\\AppData\\Roaming\\Python\\Python313\\site-packages)\n",
      "WARNING: Ignoring invalid distribution ~andas (C:\\Users\\hp\\AppData\\Roaming\\Python\\Python313\\site-packages)\n",
      "WARNING: Ignoring invalid distribution ~andas (C:\\Users\\hp\\AppData\\Roaming\\Python\\Python313\\site-packages)\n"
     ]
    }
   ],
   "source": [
    "# 1. Install required libraries\n",
    "!pip install pandas_ta --quiet"
   ]
  },
  {
   "cell_type": "code",
   "execution_count": 2,
   "id": "56eaa6a9",
   "metadata": {},
   "outputs": [
    {
     "ename": "ImportError",
     "evalue": "cannot import name 'NaN' from 'numpy' (C:\\Users\\hp\\AppData\\Roaming\\Python\\Python313\\site-packages\\numpy\\__init__.py)",
     "output_type": "error",
     "traceback": [
      "\u001b[31m---------------------------------------------------------------------------\u001b[39m",
      "\u001b[31mImportError\u001b[39m                               Traceback (most recent call last)",
      "\u001b[36mCell\u001b[39m\u001b[36m \u001b[39m\u001b[32mIn[2]\u001b[39m\u001b[32m, line 5\u001b[39m\n\u001b[32m      3\u001b[39m \u001b[38;5;28;01mimport\u001b[39;00m\u001b[38;5;250m \u001b[39m\u001b[34;01mnumpy\u001b[39;00m\u001b[38;5;250m \u001b[39m\u001b[38;5;28;01mas\u001b[39;00m\u001b[38;5;250m \u001b[39m\u001b[34;01mnp\u001b[39;00m\n\u001b[32m      4\u001b[39m \u001b[38;5;28;01mimport\u001b[39;00m\u001b[38;5;250m \u001b[39m\u001b[34;01mmatplotlib\u001b[39;00m\u001b[34;01m.\u001b[39;00m\u001b[34;01mpyplot\u001b[39;00m\u001b[38;5;250m \u001b[39m\u001b[38;5;28;01mas\u001b[39;00m\u001b[38;5;250m \u001b[39m\u001b[34;01mplt\u001b[39;00m\n\u001b[32m----> \u001b[39m\u001b[32m5\u001b[39m \u001b[38;5;28;01mimport\u001b[39;00m\u001b[38;5;250m \u001b[39m\u001b[34;01mpandas_ta\u001b[39;00m\u001b[38;5;250m \u001b[39m\u001b[38;5;28;01mas\u001b[39;00m\u001b[38;5;250m \u001b[39m\u001b[34;01mta\u001b[39;00m\n",
      "\u001b[36mFile \u001b[39m\u001b[32m~\\AppData\\Roaming\\Python\\Python313\\site-packages\\pandas_ta\\__init__.py:116\u001b[39m\n\u001b[32m     97\u001b[39m EXCHANGE_TZ = {\n\u001b[32m     98\u001b[39m     \u001b[33m\"\u001b[39m\u001b[33mNZSX\u001b[39m\u001b[33m\"\u001b[39m: \u001b[32m12\u001b[39m, \u001b[33m\"\u001b[39m\u001b[33mASX\u001b[39m\u001b[33m\"\u001b[39m: \u001b[32m11\u001b[39m,\n\u001b[32m     99\u001b[39m     \u001b[33m\"\u001b[39m\u001b[33mTSE\u001b[39m\u001b[33m\"\u001b[39m: \u001b[32m9\u001b[39m, \u001b[33m\"\u001b[39m\u001b[33mHKE\u001b[39m\u001b[33m\"\u001b[39m: \u001b[32m8\u001b[39m, \u001b[33m\"\u001b[39m\u001b[33mSSE\u001b[39m\u001b[33m\"\u001b[39m: \u001b[32m8\u001b[39m, \u001b[33m\"\u001b[39m\u001b[33mSGX\u001b[39m\u001b[33m\"\u001b[39m: \u001b[32m8\u001b[39m,\n\u001b[32m   (...)\u001b[39m\u001b[32m    102\u001b[39m     \u001b[33m\"\u001b[39m\u001b[33mBMF\u001b[39m\u001b[33m\"\u001b[39m: -\u001b[32m2\u001b[39m, \u001b[33m\"\u001b[39m\u001b[33mNYSE\u001b[39m\u001b[33m\"\u001b[39m: -\u001b[32m4\u001b[39m, \u001b[33m\"\u001b[39m\u001b[33mTSX\u001b[39m\u001b[33m\"\u001b[39m: -\u001b[32m4\u001b[39m\n\u001b[32m    103\u001b[39m }\n\u001b[32m    105\u001b[39m RATE = {\n\u001b[32m    106\u001b[39m     \u001b[33m\"\u001b[39m\u001b[33mDAYS_PER_MONTH\u001b[39m\u001b[33m\"\u001b[39m: \u001b[32m21\u001b[39m,\n\u001b[32m    107\u001b[39m     \u001b[33m\"\u001b[39m\u001b[33mMINUTES_PER_HOUR\u001b[39m\u001b[33m\"\u001b[39m: \u001b[32m60\u001b[39m,\n\u001b[32m   (...)\u001b[39m\u001b[32m    113\u001b[39m     \u001b[33m\"\u001b[39m\u001b[33mYEARLY\u001b[39m\u001b[33m\"\u001b[39m: \u001b[32m1\u001b[39m,\n\u001b[32m    114\u001b[39m }\n\u001b[32m--> \u001b[39m\u001b[32m116\u001b[39m \u001b[38;5;28;01mfrom\u001b[39;00m\u001b[38;5;250m \u001b[39m\u001b[34;01mpandas_ta\u001b[39;00m\u001b[34;01m.\u001b[39;00m\u001b[34;01mcore\u001b[39;00m\u001b[38;5;250m \u001b[39m\u001b[38;5;28;01mimport\u001b[39;00m *\n",
      "\u001b[36mFile \u001b[39m\u001b[32m~\\AppData\\Roaming\\Python\\Python313\\site-packages\\pandas_ta\\core.py:18\u001b[39m\n\u001b[32m     16\u001b[39m \u001b[38;5;28;01mfrom\u001b[39;00m\u001b[38;5;250m \u001b[39m\u001b[34;01mpandas_ta\u001b[39;00m\u001b[34;01m.\u001b[39;00m\u001b[34;01mcandles\u001b[39;00m\u001b[38;5;250m \u001b[39m\u001b[38;5;28;01mimport\u001b[39;00m *\n\u001b[32m     17\u001b[39m \u001b[38;5;28;01mfrom\u001b[39;00m\u001b[38;5;250m \u001b[39m\u001b[34;01mpandas_ta\u001b[39;00m\u001b[34;01m.\u001b[39;00m\u001b[34;01mcycles\u001b[39;00m\u001b[38;5;250m \u001b[39m\u001b[38;5;28;01mimport\u001b[39;00m *\n\u001b[32m---> \u001b[39m\u001b[32m18\u001b[39m \u001b[38;5;28;01mfrom\u001b[39;00m\u001b[38;5;250m \u001b[39m\u001b[34;01mpandas_ta\u001b[39;00m\u001b[34;01m.\u001b[39;00m\u001b[34;01mmomentum\u001b[39;00m\u001b[38;5;250m \u001b[39m\u001b[38;5;28;01mimport\u001b[39;00m *\n\u001b[32m     19\u001b[39m \u001b[38;5;28;01mfrom\u001b[39;00m\u001b[38;5;250m \u001b[39m\u001b[34;01mpandas_ta\u001b[39;00m\u001b[34;01m.\u001b[39;00m\u001b[34;01moverlap\u001b[39;00m\u001b[38;5;250m \u001b[39m\u001b[38;5;28;01mimport\u001b[39;00m *\n\u001b[32m     20\u001b[39m \u001b[38;5;28;01mfrom\u001b[39;00m\u001b[38;5;250m \u001b[39m\u001b[34;01mpandas_ta\u001b[39;00m\u001b[34;01m.\u001b[39;00m\u001b[34;01mperformance\u001b[39;00m\u001b[38;5;250m \u001b[39m\u001b[38;5;28;01mimport\u001b[39;00m *\n",
      "\u001b[36mFile \u001b[39m\u001b[32m~\\AppData\\Roaming\\Python\\Python313\\site-packages\\pandas_ta\\momentum\\__init__.py:34\u001b[39m\n\u001b[32m     32\u001b[39m \u001b[38;5;28;01mfrom\u001b[39;00m\u001b[38;5;250m \u001b[39m\u001b[34;01m.\u001b[39;00m\u001b[34;01msmi\u001b[39;00m\u001b[38;5;250m \u001b[39m\u001b[38;5;28;01mimport\u001b[39;00m smi\n\u001b[32m     33\u001b[39m \u001b[38;5;28;01mfrom\u001b[39;00m\u001b[38;5;250m \u001b[39m\u001b[34;01m.\u001b[39;00m\u001b[34;01msqueeze\u001b[39;00m\u001b[38;5;250m \u001b[39m\u001b[38;5;28;01mimport\u001b[39;00m squeeze\n\u001b[32m---> \u001b[39m\u001b[32m34\u001b[39m \u001b[38;5;28;01mfrom\u001b[39;00m\u001b[38;5;250m \u001b[39m\u001b[34;01m.\u001b[39;00m\u001b[34;01msqueeze_pro\u001b[39;00m\u001b[38;5;250m \u001b[39m\u001b[38;5;28;01mimport\u001b[39;00m squeeze_pro\n\u001b[32m     35\u001b[39m \u001b[38;5;28;01mfrom\u001b[39;00m\u001b[38;5;250m \u001b[39m\u001b[34;01m.\u001b[39;00m\u001b[34;01mstc\u001b[39;00m\u001b[38;5;250m \u001b[39m\u001b[38;5;28;01mimport\u001b[39;00m stc\n\u001b[32m     36\u001b[39m \u001b[38;5;28;01mfrom\u001b[39;00m\u001b[38;5;250m \u001b[39m\u001b[34;01m.\u001b[39;00m\u001b[34;01mstoch\u001b[39;00m\u001b[38;5;250m \u001b[39m\u001b[38;5;28;01mimport\u001b[39;00m stoch\n",
      "\u001b[36mFile \u001b[39m\u001b[32m~\\AppData\\Roaming\\Python\\Python313\\site-packages\\pandas_ta\\momentum\\squeeze_pro.py:2\u001b[39m\n\u001b[32m      1\u001b[39m \u001b[38;5;66;03m# -*- coding: utf-8 -*-\u001b[39;00m\n\u001b[32m----> \u001b[39m\u001b[32m2\u001b[39m \u001b[38;5;28;01mfrom\u001b[39;00m\u001b[38;5;250m \u001b[39m\u001b[34;01mnumpy\u001b[39;00m\u001b[38;5;250m \u001b[39m\u001b[38;5;28;01mimport\u001b[39;00m NaN \u001b[38;5;28;01mas\u001b[39;00m npNaN\n\u001b[32m      3\u001b[39m \u001b[38;5;28;01mfrom\u001b[39;00m\u001b[38;5;250m \u001b[39m\u001b[34;01mpandas\u001b[39;00m\u001b[38;5;250m \u001b[39m\u001b[38;5;28;01mimport\u001b[39;00m DataFrame\n\u001b[32m      4\u001b[39m \u001b[38;5;28;01mfrom\u001b[39;00m\u001b[38;5;250m \u001b[39m\u001b[34;01mpandas_ta\u001b[39;00m\u001b[34;01m.\u001b[39;00m\u001b[34;01mmomentum\u001b[39;00m\u001b[38;5;250m \u001b[39m\u001b[38;5;28;01mimport\u001b[39;00m mom\n",
      "\u001b[31mImportError\u001b[39m: cannot import name 'NaN' from 'numpy' (C:\\Users\\hp\\AppData\\Roaming\\Python\\Python313\\site-packages\\numpy\\__init__.py)"
     ]
    }
   ],
   "source": [
    "# 2. Import libraries\n",
    "import pandas as pd\n",
    "import numpy as np\n",
    "import matplotlib.pyplot as plt\n",
    "import pandas_ta as ta"
   ]
  },
  {
   "cell_type": "code",
   "execution_count": null,
   "id": "ae3a31cb",
   "metadata": {},
   "outputs": [],
   "source": [
    "# 3. Load your stock data (AAPL example)\n",
    "df = pd.read_csv('../data/yfinance_data/AAPL_historical_data.csv')\n",
    "df = df.rename(columns=lambda x: x.strip().capitalize())\n",
    "df = df[['Date', 'Open', 'High', 'Low', 'Close', 'Volume']]\n",
    "df['Date'] = pd.to_datetime(df['Date'])\n",
    "df = df.sort_values('Date')\n",
    "df.head()"
   ]
  },
  {
   "cell_type": "code",
   "execution_count": null,
   "id": "a2c4a81a",
   "metadata": {},
   "outputs": [],
   "source": [
    "# 4. Calculate technical indicators with pandas_ta\n",
    "df['SMA_20'] = ta.sma(df['Close'], length=20)\n",
    "df['EMA_20'] = ta.ema(df['Close'], length=20)\n",
    "df['RSI_14'] = ta.rsi(df['Close'], length=14)\n",
    "macd = ta.macd(df['Close'])\n",
    "df['MACD'] = macd['MACD_12_26_9']\n",
    "df['MACD_signal'] = macd['MACDs_12_26_9']\n",
    "df['MACD_hist'] = macd['MACDh_12_26_9']\n",
    "df.tail()"
   ]
  },
  {
   "cell_type": "code",
   "execution_count": null,
   "id": "227c7e88",
   "metadata": {},
   "outputs": [],
   "source": [
    "# 5A. Visualize Close Price with Moving Averages\n",
    "plt.figure(figsize=(14,6))\n",
    "plt.plot(df['Date'], df['Close'], label='Close Price')\n",
    "plt.plot(df['Date'], df['SMA_20'], label='SMA 20')\n",
    "plt.plot(df['Date'], df['EMA_20'], label='EMA 20')\n",
    "plt.title('AAPL Close Price with SMA and EMA')\n",
    "plt.xlabel('Date')\n",
    "plt.ylabel('Price')\n",
    "plt.legend()\n",
    "plt.show()"
   ]
  },
  {
   "cell_type": "code",
   "execution_count": null,
   "id": "385bd9b1",
   "metadata": {},
   "outputs": [],
   "source": [
    "# 5A. Visualize Close Price with Moving Averages\n",
    "plt.figure(figsize=(14,6))\n",
    "plt.plot(df['Date'], df['Close'], label='Close Price')\n",
    "plt.plot(df['Date'], df['SMA_20'], label='SMA 20')\n",
    "plt.plot(df['Date'], df['EMA_20'], label='EMA 20')\n",
    "plt.title('AAPL Close Price with SMA and EMA')\n",
    "plt.xlabel('Date')\n",
    "plt.ylabel('Price')\n",
    "plt.legend()\n",
    "plt.show()"
   ]
  },
  {
   "cell_type": "code",
   "execution_count": null,
   "id": "91799f67",
   "metadata": {},
   "outputs": [],
   "source": [
    "# 5B. Visualize RSI\n",
    "plt.figure(figsize=(14,4))\n",
    "plt.plot(df['Date'], df['RSI_14'], label='RSI 14')\n",
    "plt.axhline(70, color='red', linestyle='--', label='Overbought (70)')\n",
    "plt.axhline(30, color='green', linestyle='--', label='Oversold (30)')\n",
    "plt.title('AAPL RSI')\n",
    "plt.xlabel('Date')\n",
    "plt.ylabel('RSI')\n",
    "plt.legend()\n",
    "plt.show()"
   ]
  },
  {
   "cell_type": "code",
   "execution_count": null,
   "id": "3c81e51a",
   "metadata": {},
   "outputs": [],
   "source": [
    "# 5C. Visualize MACD\n",
    "plt.figure(figsize=(14,4))\n",
    "plt.plot(df['Date'], df['MACD'], label='MACD')\n",
    "plt.plot(df['Date'], df['MACD_signal'], label='Signal')\n",
    "plt.bar(df['Date'], df['MACD_hist'], label='Hist', color='gray', alpha=0.3)\n",
    "plt.title('AAPL MACD')\n",
    "plt.xlabel('Date')\n",
    "plt.ylabel('MACD')\n",
    "plt.legend()\n",
    "plt.show()"
   ]
  },
  {
   "cell_type": "markdown",
   "id": "586eacd4",
   "metadata": {},
   "source": [
    "### References for Self-Learning\n",
    "- [pandas_ta Documentation](https://github.com/twopirllc/pandas-ta)\n",
    "- [Investopedia: Technical Indicators](https://www.investopedia.com/terms/t/technicalindicator.asp)"
   ]
  }
 ],
 "metadata": {
  "kernelspec": {
   "display_name": "Python 3",
   "language": "python",
   "name": "python3"
  },
  "language_info": {
   "codemirror_mode": {
    "name": "ipython",
    "version": 3
   },
   "file_extension": ".py",
   "mimetype": "text/x-python",
   "name": "python",
   "nbconvert_exporter": "python",
   "pygments_lexer": "ipython3",
   "version": "3.13.1"
  }
 },
 "nbformat": 4,
 "nbformat_minor": 5
}
