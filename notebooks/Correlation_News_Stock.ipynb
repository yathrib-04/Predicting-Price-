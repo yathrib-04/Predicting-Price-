{
 "cells": [
  {
   "cell_type": "code",
   "execution_count": null,
   "id": "201302ba",
   "metadata": {},
   "outputs": [],
   "source": []
  },
  {
   "cell_type": "markdown",
   "id": "3f813139",
   "metadata": {},
   "source": [
    "# Task 3: Correlation between News Sentiment and Stock Movement\n",
    "\n",
    "This notebook demonstrates how to align news and stock data by date, perform sentiment analysis on news headlines, calculate daily stock returns, and analyze the correlation between news sentiment and stock price movements.\n",
    "\n",
    "**Steps:**\n",
    "1. Install required libraries\n",
    "2. Import libraries\n",
    "3. Load and align news and stock data\n",
    "4. Perform sentiment analysis on headlines\n",
    "5. Calculate daily stock returns\n",
    "6. Aggregate daily sentiment\n",
    "7. Correlation analysis"
   ]
  },
  {
   "cell_type": "code",
   "execution_count": null,
   "id": "c9438ec9",
   "metadata": {},
   "outputs": [],
   "source": [
    "# 1. Install required libraries\n",
    "!pip install textblob --quiet\n",
    "!pip install pandas_ta --quiet"
   ]
  },
  {
   "cell_type": "code",
   "execution_count": null,
   "id": "8a33b8f6",
   "metadata": {},
   "outputs": [],
   "source": [
    "# 2. Import libraries\n",
    "import pandas as pd\n",
    "import numpy as np\n",
    "from textblob import TextBlob\n",
    "import matplotlib.pyplot as plt\n",
    "import pandas_ta as ta"
   ]
  },
  {
   "cell_type": "code",
   "execution_count": null,
   "id": "25e34b81",
   "metadata": {},
   "outputs": [],
   "source": [
    "# 3. Load and align news and stock data (AAPL example)\n",
    "# Load news data\n",
    "news = pd.read_csv('../data/raw_analyst_ratings.csv', usecols=['headline','date','stock'])\n",
    "news = news[news['stock'] == 'AAPL']\n",
    "news['date'] = pd.to_datetime(news['date']).dt.date\n",
    "\n",
    "# Load stock data\n",
    "stock = pd.read_csv('../data/yfinance_data/AAPL_historical_data.csv')\n",
    "stock = stock.rename(columns=lambda x: x.strip().capitalize())\n",
    "stock['Date'] = pd.to_datetime(stock['Date']).dt.date\n",
    "stock = stock[['Date', 'Close']]\n",
    "stock = stock.sort_values('Date')\n",
    "stock.head()"
   ]
  },
  {
   "cell_type": "code",
   "execution_count": null,
   "id": "7932368d",
   "metadata": {},
   "outputs": [],
   "source": [
    "# 4. Perform sentiment analysis on headlines\n",
    "def get_sentiment(text):\n",
    "    blob = TextBlob(str(text))\n",
    "    return blob.sentiment.polarity\n",
    "\n",
    "news['sentiment'] = news['headline'].apply(get_sentiment)\n",
    "news.head()"
   ]
  },
  {
   "cell_type": "code",
   "execution_count": null,
   "id": "836418e2",
   "metadata": {},
   "outputs": [],
   "source": [
    "# 5. Calculate daily stock returns\n",
    "stock['return'] = stock['Close'].pct_change()\n",
    "stock.head()"
   ]
  },
  {
   "cell_type": "markdown",
   "id": "97fb11e2",
   "metadata": {},
   "source": [
    "# 6. Aggregate daily sentiment\n",
    "daily_sentiment = news.groupby('date')['sentiment'].mean().reset_index()\n",
    "daily_sentiment.columns = ['Date', 'avg_sentiment']\n",
    "# Merge with stock returns\n",
    "merged = pd.merge(stock, daily_sentiment, on='Date', how='left')\n",
    "merged = merged.dropna(subset=['avg_sentiment', 'return'])\n",
    "merged.head()"
   ]
  },
  {
   "cell_type": "code",
   "execution_count": null,
   "id": "c5ba95ba",
   "metadata": {},
   "outputs": [],
   "source": [
    "# 7. Correlation analysis\n",
    "from scipy.stats import pearsonr\n",
    "corr, pval = pearsonr(merged['avg_sentiment'], merged['return'])\n",
    "print(f'Pearson correlation between daily average sentiment and stock return: {corr:.3f} (p-value: {pval:.3g})')\n",
    "\n",
    "plt.figure(figsize=(8,5))\n",
    "plt.scatter(merged['avg_sentiment'], merged['return'], alpha=0.6)\n",
    "plt.title('Daily Avg Sentiment vs. Stock Return (AAPL)')\n",
    "plt.xlabel('Average Daily Sentiment')\n",
    "plt.ylabel('Daily Stock Return')\n",
    "plt.grid(True)\n",
    "plt.show()"
   ]
  },
  {
   "cell_type": "markdown",
   "id": "55d90df3",
   "metadata": {},
   "source": [
    "### References for Self-Learning\n",
    "- [TextBlob Documentation](https://textblob.readthedocs.io/en/dev/)\n",
    "- [pandas_ta Documentation](https://github.com/twopirllc/pandas-ta)\n",
    "- [Investopedia: Correlation](https://www.investopedia.com/terms/c/correlation.asp)"
   ]
  }
 ],
 "metadata": {
  "language_info": {
   "name": "python"
  }
 },
 "nbformat": 4,
 "nbformat_minor": 5
}
